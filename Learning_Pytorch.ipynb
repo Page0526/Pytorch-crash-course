{
  "metadata": {
    "kernelspec": {
      "language": "python",
      "display_name": "Python 3",
      "name": "python3"
    },
    "language_info": {
      "name": "python",
      "version": "3.10.13",
      "mimetype": "text/x-python",
      "codemirror_mode": {
        "name": "ipython",
        "version": 3
      },
      "pygments_lexer": "ipython3",
      "nbconvert_exporter": "python",
      "file_extension": ".py"
    },
    "kaggle": {
      "accelerator": "none",
      "dataSources": [],
      "dockerImageVersionId": 30684,
      "isInternetEnabled": true,
      "language": "python",
      "sourceType": "notebook",
      "isGpuEnabled": false
    },
    "colab": {
      "provenance": [],
      "include_colab_link": true
    }
  },
  "nbformat_minor": 0,
  "nbformat": 4,
  "cells": [
    {
      "cell_type": "markdown",
      "metadata": {
        "id": "view-in-github",
        "colab_type": "text"
      },
      "source": [
        "<a href=\"https://colab.research.google.com/github/Page0526/Pytorch-crash-course/blob/main/Learning_Pytorch.ipynb\" target=\"_parent\"><img src=\"https://colab.research.google.com/assets/colab-badge.svg\" alt=\"Open In Colab\"/></a>"
      ]
    },
    {
      "cell_type": "code",
      "source": [
        "# This Python 3 environment comes with many helpful analytics libraries installed\n",
        "# It is defined by the kaggle/python Docker image: https://github.com/kaggle/docker-python\n",
        "# For example, here's several helpful packages to load\n",
        "\n",
        "import numpy as np # linear algebra\n",
        "import pandas as pd # data processing, CSV file I/O (e.g. pd.read_csv)\n",
        "\n",
        "# Input data files are available in the read-only \"../input/\" directory\n",
        "# For example, running this (by clicking run or pressing Shift+Enter) will list all files under the input directory\n",
        "\n",
        "import os\n",
        "for dirname, _, filenames in os.walk('/kaggle/input'):\n",
        "    for filename in filenames:\n",
        "        print(os.path.join(dirname, filename))\n",
        "\n",
        "# You can write up to 20GB to the current directory (/kaggle/working/) that gets preserved as output when you create a version using \"Save & Run All\"\n",
        "# You can also write temporary files to /kaggle/temp/, but they won't be saved outside of the current session"
      ],
      "metadata": {
        "_uuid": "8f2839f25d086af736a60e9eeb907d3b93b6e0e5",
        "_cell_guid": "b1076dfc-b9ad-4769-8c92-a6c4dae69d19",
        "execution": {
          "iopub.status.busy": "2024-04-17T23:32:14.861688Z",
          "iopub.execute_input": "2024-04-17T23:32:14.862532Z",
          "iopub.status.idle": "2024-04-17T23:32:16.064778Z",
          "shell.execute_reply.started": "2024-04-17T23:32:14.862479Z",
          "shell.execute_reply": "2024-04-17T23:32:16.06328Z"
        },
        "trusted": true,
        "id": "k_pOB2IzZ8zV"
      },
      "execution_count": null,
      "outputs": []
    },
    {
      "cell_type": "markdown",
      "source": [
        "# 00. Pytorch Fundamentals"
      ],
      "metadata": {
        "id": "5Xz3mteAZ8zZ"
      }
    },
    {
      "cell_type": "code",
      "source": [
        "import torch\n",
        "torch.__version__"
      ],
      "metadata": {
        "execution": {
          "iopub.status.busy": "2024-04-17T23:32:16.0675Z",
          "iopub.execute_input": "2024-04-17T23:32:16.068189Z",
          "iopub.status.idle": "2024-04-17T23:32:19.85336Z",
          "shell.execute_reply.started": "2024-04-17T23:32:16.068144Z",
          "shell.execute_reply": "2024-04-17T23:32:19.852168Z"
        },
        "trusted": true,
        "id": "KL8tXg99Z8za",
        "outputId": "57ba4b69-a11a-4169-9350-50baa24cae8c",
        "colab": {
          "base_uri": "https://localhost:8080/",
          "height": 35
        }
      },
      "execution_count": null,
      "outputs": [
        {
          "output_type": "execute_result",
          "data": {
            "text/plain": [
              "'2.2.1+cu121'"
            ],
            "application/vnd.google.colaboratory.intrinsic+json": {
              "type": "string"
            }
          },
          "metadata": {},
          "execution_count": 2
        }
      ]
    },
    {
      "cell_type": "code",
      "source": [
        "# tensor: bieu dien data theo numerical way\n",
        "# eg: bieu dien 1 anh vs shape [3, 224, 224] ~ [color_chanel, height, width]\n",
        "# scalar: single number, zero dimension tensor\n",
        "scalar = torch.tensor(7)\n",
        "scalar"
      ],
      "metadata": {
        "execution": {
          "iopub.status.busy": "2024-04-17T23:32:19.860884Z",
          "iopub.execute_input": "2024-04-17T23:32:19.861681Z",
          "iopub.status.idle": "2024-04-17T23:32:19.90679Z",
          "shell.execute_reply.started": "2024-04-17T23:32:19.86164Z",
          "shell.execute_reply": "2024-04-17T23:32:19.905309Z"
        },
        "trusted": true,
        "id": "7Intpc6JZ8zb",
        "outputId": "3a520738-b206-40de-8809-fdd1a5572ecb",
        "colab": {
          "base_uri": "https://localhost:8080/"
        }
      },
      "execution_count": null,
      "outputs": [
        {
          "output_type": "execute_result",
          "data": {
            "text/plain": [
              "tensor(7)"
            ]
          },
          "metadata": {},
          "execution_count": 3
        }
      ]
    },
    {
      "cell_type": "code",
      "source": [
        "scalar.ndim # check dimension"
      ],
      "metadata": {
        "execution": {
          "iopub.status.busy": "2024-04-17T23:32:19.90849Z",
          "iopub.execute_input": "2024-04-17T23:32:19.909621Z",
          "iopub.status.idle": "2024-04-17T23:32:19.916919Z",
          "shell.execute_reply.started": "2024-04-17T23:32:19.909574Z",
          "shell.execute_reply": "2024-04-17T23:32:19.915775Z"
        },
        "trusted": true,
        "id": "Y_ZBsmdhZ8zc",
        "outputId": "6543954b-59bf-4423-9c9f-3ffd24e826b9",
        "colab": {
          "base_uri": "https://localhost:8080/"
        }
      },
      "execution_count": null,
      "outputs": [
        {
          "output_type": "execute_result",
          "data": {
            "text/plain": [
              "0"
            ]
          },
          "metadata": {},
          "execution_count": 4
        }
      ]
    },
    {
      "cell_type": "code",
      "source": [
        "scalar.item() # get python number trong tensors (chi lam viec vs one-element tensor)"
      ],
      "metadata": {
        "execution": {
          "iopub.status.busy": "2024-04-17T23:32:19.918407Z",
          "iopub.execute_input": "2024-04-17T23:32:19.918862Z",
          "iopub.status.idle": "2024-04-17T23:32:19.927793Z",
          "shell.execute_reply.started": "2024-04-17T23:32:19.91881Z",
          "shell.execute_reply": "2024-04-17T23:32:19.926759Z"
        },
        "trusted": true,
        "id": "6rRXqtvfZ8zc",
        "outputId": "2aa72558-8d7a-4f61-d8d6-506386d44342",
        "colab": {
          "base_uri": "https://localhost:8080/"
        }
      },
      "execution_count": null,
      "outputs": [
        {
          "output_type": "execute_result",
          "data": {
            "text/plain": [
              "7"
            ]
          },
          "metadata": {},
          "execution_count": 5
        }
      ]
    },
    {
      "cell_type": "code",
      "source": [
        "vector = torch.tensor([7, 7])\n",
        "vector"
      ],
      "metadata": {
        "execution": {
          "iopub.status.busy": "2024-04-17T23:32:19.929432Z",
          "iopub.execute_input": "2024-04-17T23:32:19.929879Z",
          "iopub.status.idle": "2024-04-17T23:32:19.940959Z",
          "shell.execute_reply.started": "2024-04-17T23:32:19.929829Z",
          "shell.execute_reply": "2024-04-17T23:32:19.939856Z"
        },
        "trusted": true,
        "id": "-anuxHpFZ8zc",
        "outputId": "1d5b9235-f750-42e1-ead2-d966a5419a16",
        "colab": {
          "base_uri": "https://localhost:8080/"
        }
      },
      "execution_count": null,
      "outputs": [
        {
          "output_type": "execute_result",
          "data": {
            "text/plain": [
              "tensor([7, 7])"
            ]
          },
          "metadata": {},
          "execution_count": 6
        }
      ]
    },
    {
      "cell_type": "code",
      "source": [
        "vector.ndim # trick: count the square brackets '['"
      ],
      "metadata": {
        "execution": {
          "iopub.status.busy": "2024-04-17T23:32:19.942245Z",
          "iopub.execute_input": "2024-04-17T23:32:19.942631Z",
          "iopub.status.idle": "2024-04-17T23:32:19.951071Z",
          "shell.execute_reply.started": "2024-04-17T23:32:19.942601Z",
          "shell.execute_reply": "2024-04-17T23:32:19.94992Z"
        },
        "trusted": true,
        "id": "lw5uat7tZ8zd",
        "outputId": "2d854407-d3f2-4b80-de47-f8eb96a58b7a",
        "colab": {
          "base_uri": "https://localhost:8080/"
        }
      },
      "execution_count": null,
      "outputs": [
        {
          "output_type": "execute_result",
          "data": {
            "text/plain": [
              "1"
            ]
          },
          "metadata": {},
          "execution_count": 7
        }
      ]
    },
    {
      "cell_type": "code",
      "source": [
        "vector.shape"
      ],
      "metadata": {
        "execution": {
          "iopub.status.busy": "2024-04-17T23:32:19.952566Z",
          "iopub.execute_input": "2024-04-17T23:32:19.952897Z",
          "iopub.status.idle": "2024-04-17T23:32:19.961108Z",
          "shell.execute_reply.started": "2024-04-17T23:32:19.952869Z",
          "shell.execute_reply": "2024-04-17T23:32:19.959947Z"
        },
        "trusted": true,
        "id": "hQg3F09NZ8zd",
        "outputId": "0229f47d-01db-4b0a-a97b-a0a9b103fe47",
        "colab": {
          "base_uri": "https://localhost:8080/"
        }
      },
      "execution_count": null,
      "outputs": [
        {
          "output_type": "execute_result",
          "data": {
            "text/plain": [
              "torch.Size([2])"
            ]
          },
          "metadata": {},
          "execution_count": 8
        }
      ]
    },
    {
      "cell_type": "code",
      "source": [
        "random_tensor = torch.rand(size=(3,4))\n",
        "random_tensor, random_tensor.dtype"
      ],
      "metadata": {
        "execution": {
          "iopub.status.busy": "2024-04-17T23:32:19.965234Z",
          "iopub.execute_input": "2024-04-17T23:32:19.965696Z",
          "iopub.status.idle": "2024-04-17T23:32:20.022736Z",
          "shell.execute_reply.started": "2024-04-17T23:32:19.965665Z",
          "shell.execute_reply": "2024-04-17T23:32:20.021879Z"
        },
        "trusted": true,
        "id": "oZKwohcPZ8ze",
        "outputId": "6b265597-2dbb-4bca-dacc-51d7ea1d82a8",
        "colab": {
          "base_uri": "https://localhost:8080/"
        }
      },
      "execution_count": null,
      "outputs": [
        {
          "output_type": "execute_result",
          "data": {
            "text/plain": [
              "(tensor([[0.9296, 0.5958, 0.0293, 0.0137],\n",
              "         [0.7894, 0.1203, 0.1236, 0.0576],\n",
              "         [0.5232, 0.1367, 0.7072, 0.1851]]),\n",
              " torch.float32)"
            ]
          },
          "metadata": {},
          "execution_count": 9
        }
      ]
    },
    {
      "cell_type": "code",
      "source": [
        "image = torch.rand(size=(224, 224, 3))\n",
        "image.shape, image.ndim"
      ],
      "metadata": {
        "execution": {
          "iopub.status.busy": "2024-04-17T23:32:20.023747Z",
          "iopub.execute_input": "2024-04-17T23:32:20.024061Z",
          "iopub.status.idle": "2024-04-17T23:32:20.032485Z",
          "shell.execute_reply.started": "2024-04-17T23:32:20.024034Z",
          "shell.execute_reply": "2024-04-17T23:32:20.031444Z"
        },
        "trusted": true,
        "id": "yj-WAA9AZ8ze",
        "outputId": "85b13dfd-1c7e-4c08-ce79-7a6a68cbc62f",
        "colab": {
          "base_uri": "https://localhost:8080/"
        }
      },
      "execution_count": null,
      "outputs": [
        {
          "output_type": "execute_result",
          "data": {
            "text/plain": [
              "(torch.Size([224, 224, 3]), 3)"
            ]
          },
          "metadata": {},
          "execution_count": 10
        }
      ]
    },
    {
      "cell_type": "code",
      "source": [
        "image"
      ],
      "metadata": {
        "execution": {
          "iopub.status.busy": "2024-04-17T23:32:20.033941Z",
          "iopub.execute_input": "2024-04-17T23:32:20.034286Z",
          "iopub.status.idle": "2024-04-17T23:32:20.049257Z",
          "shell.execute_reply.started": "2024-04-17T23:32:20.034259Z",
          "shell.execute_reply": "2024-04-17T23:32:20.048132Z"
        },
        "trusted": true,
        "id": "rl53Nru1Z8ze",
        "outputId": "04f66f5d-d9ea-4944-e783-0742ee8d0dc0",
        "colab": {
          "base_uri": "https://localhost:8080/"
        }
      },
      "execution_count": null,
      "outputs": [
        {
          "output_type": "execute_result",
          "data": {
            "text/plain": [
              "tensor([[[0.1272, 0.9252, 0.1634],\n",
              "         [0.3393, 0.2978, 0.6300],\n",
              "         [0.1564, 0.2200, 0.1981],\n",
              "         ...,\n",
              "         [0.3037, 0.4592, 0.6513],\n",
              "         [0.0413, 0.4125, 0.8801],\n",
              "         [0.7050, 0.3031, 0.1066]],\n",
              "\n",
              "        [[0.4330, 0.6732, 0.1491],\n",
              "         [0.8081, 0.4646, 0.4406],\n",
              "         [0.2769, 0.5228, 0.3257],\n",
              "         ...,\n",
              "         [0.0445, 0.9304, 0.6234],\n",
              "         [0.7728, 0.0087, 0.8461],\n",
              "         [0.1484, 0.3669, 0.4868]],\n",
              "\n",
              "        [[0.6710, 0.7224, 0.7078],\n",
              "         [0.0888, 0.8122, 0.4096],\n",
              "         [0.5658, 0.9111, 0.9351],\n",
              "         ...,\n",
              "         [0.8970, 0.8655, 0.0599],\n",
              "         [0.1695, 0.7814, 0.9653],\n",
              "         [0.3551, 0.4429, 0.0575]],\n",
              "\n",
              "        ...,\n",
              "\n",
              "        [[0.9102, 0.0174, 0.9940],\n",
              "         [0.4532, 0.9148, 0.4508],\n",
              "         [0.7107, 0.1150, 0.5716],\n",
              "         ...,\n",
              "         [0.0296, 0.5831, 0.5303],\n",
              "         [0.3361, 0.0198, 0.3934],\n",
              "         [0.1728, 0.2726, 0.2742]],\n",
              "\n",
              "        [[0.2630, 0.8988, 0.4971],\n",
              "         [0.6230, 0.9112, 0.8117],\n",
              "         [0.5725, 0.1755, 0.1368],\n",
              "         ...,\n",
              "         [0.8700, 0.3742, 0.2084],\n",
              "         [0.5085, 0.8433, 0.2155],\n",
              "         [0.9936, 0.3800, 0.9152]],\n",
              "\n",
              "        [[0.8627, 0.3814, 0.7866],\n",
              "         [0.0913, 0.9978, 0.5294],\n",
              "         [0.6335, 0.1955, 0.2689],\n",
              "         ...,\n",
              "         [0.4866, 0.4294, 0.3234],\n",
              "         [0.7993, 0.9509, 0.2477],\n",
              "         [0.3488, 0.5400, 0.7917]]])"
            ]
          },
          "metadata": {},
          "execution_count": 11
        }
      ]
    },
    {
      "cell_type": "code",
      "source": [
        "zero_to_ten = torch.arange(start=0, end=10, step=1)"
      ],
      "metadata": {
        "execution": {
          "iopub.status.busy": "2024-04-17T23:32:20.050977Z",
          "iopub.execute_input": "2024-04-17T23:32:20.051393Z",
          "iopub.status.idle": "2024-04-17T23:32:20.065043Z",
          "shell.execute_reply.started": "2024-04-17T23:32:20.051355Z",
          "shell.execute_reply": "2024-04-17T23:32:20.064138Z"
        },
        "trusted": true,
        "id": "WQEX6Q-mZ8zf"
      },
      "execution_count": null,
      "outputs": []
    },
    {
      "cell_type": "code",
      "source": [
        "zero_to_ten\n",
        "zero_to_ten.ndim, zero_to_ten.shape"
      ],
      "metadata": {
        "execution": {
          "iopub.status.busy": "2024-04-17T23:32:20.066309Z",
          "iopub.execute_input": "2024-04-17T23:32:20.066749Z",
          "iopub.status.idle": "2024-04-17T23:32:20.073537Z",
          "shell.execute_reply.started": "2024-04-17T23:32:20.066717Z",
          "shell.execute_reply": "2024-04-17T23:32:20.072774Z"
        },
        "trusted": true,
        "id": "Xu1BTcDLZ8zf",
        "outputId": "7ff84e0c-3e45-4fe9-a7b8-ace28bbbd016",
        "colab": {
          "base_uri": "https://localhost:8080/"
        }
      },
      "execution_count": null,
      "outputs": [
        {
          "output_type": "execute_result",
          "data": {
            "text/plain": [
              "(1, torch.Size([10]))"
            ]
          },
          "metadata": {},
          "execution_count": 13
        }
      ]
    },
    {
      "cell_type": "code",
      "source": [
        "# Default datatype for tensors is float32\n",
        "float_32_tensor = torch.tensor([3.0, 6.0, 9.0],\n",
        "                               dtype=None, # defaults to None, which is torch.float32 or whatever datatype is passed\n",
        "                               device=None, # defaults to None, which uses the default tensor type\n",
        "                               requires_grad=False) # if True, operations performed on the tensor are recorded\n",
        "\n",
        "float_32_tensor.shape, float_32_tensor.dtype, float_32_tensor.device"
      ],
      "metadata": {
        "execution": {
          "iopub.status.busy": "2024-04-17T23:32:20.074546Z",
          "iopub.execute_input": "2024-04-17T23:32:20.074861Z",
          "iopub.status.idle": "2024-04-17T23:32:20.084404Z",
          "shell.execute_reply.started": "2024-04-17T23:32:20.074833Z",
          "shell.execute_reply": "2024-04-17T23:32:20.083312Z"
        },
        "trusted": true,
        "id": "zvhKMxrvZ8zf",
        "outputId": "92c4558f-9c02-4796-bd18-7c2c9bf027f5",
        "colab": {
          "base_uri": "https://localhost:8080/"
        }
      },
      "execution_count": null,
      "outputs": [
        {
          "output_type": "execute_result",
          "data": {
            "text/plain": [
              "(torch.Size([3]), torch.float32, device(type='cpu'))"
            ]
          },
          "metadata": {},
          "execution_count": 14
        }
      ]
    },
    {
      "cell_type": "code",
      "source": [
        "float_16_tensor = torch.tensor([3.0, 6.0, 9.0],\n",
        "                               dtype=torch.float16) # torch.half would also work\n",
        "\n",
        "float_16_tensor.dtype"
      ],
      "metadata": {
        "execution": {
          "iopub.status.busy": "2024-04-17T23:32:20.085919Z",
          "iopub.execute_input": "2024-04-17T23:32:20.086304Z",
          "iopub.status.idle": "2024-04-17T23:32:20.098944Z",
          "shell.execute_reply.started": "2024-04-17T23:32:20.086274Z",
          "shell.execute_reply": "2024-04-17T23:32:20.097733Z"
        },
        "trusted": true,
        "id": "grE35ektZ8zf",
        "outputId": "6d1c68f6-f6f3-4bfc-b1c4-52dd6770c34f",
        "colab": {
          "base_uri": "https://localhost:8080/"
        }
      },
      "execution_count": null,
      "outputs": [
        {
          "output_type": "execute_result",
          "data": {
            "text/plain": [
              "torch.float16"
            ]
          },
          "metadata": {},
          "execution_count": 15
        }
      ]
    },
    {
      "cell_type": "code",
      "source": [
        "# Create a tensor\n",
        "some_tensor = torch.rand(3, 4)\n",
        "\n",
        "# Find out details about it\n",
        "print(some_tensor)\n",
        "print(f\"Shape of tensor: {some_tensor.shape}\")\n",
        "print(f\"Datatype of tensor: {some_tensor.dtype}\")\n",
        "print(f\"Device tensor is stored on: {some_tensor.device}\") # will default to CPU"
      ],
      "metadata": {
        "execution": {
          "iopub.status.busy": "2024-04-17T23:32:20.100654Z",
          "iopub.execute_input": "2024-04-17T23:32:20.10101Z",
          "iopub.status.idle": "2024-04-17T23:32:20.109125Z",
          "shell.execute_reply.started": "2024-04-17T23:32:20.10098Z",
          "shell.execute_reply": "2024-04-17T23:32:20.108222Z"
        },
        "trusted": true,
        "id": "35lmksgLZ8zg",
        "outputId": "aeb6d7e3-559b-4b8c-90cd-3ca5e524d89c",
        "colab": {
          "base_uri": "https://localhost:8080/"
        }
      },
      "execution_count": null,
      "outputs": [
        {
          "output_type": "stream",
          "name": "stdout",
          "text": [
            "tensor([[0.6906, 0.0098, 0.1065, 0.4366],\n",
            "        [0.7396, 0.8049, 0.5723, 0.9769],\n",
            "        [0.8560, 0.2698, 0.1739, 0.8272]])\n",
            "Shape of tensor: torch.Size([3, 4])\n",
            "Datatype of tensor: torch.float32\n",
            "Device tensor is stored on: cpu\n"
          ]
        }
      ]
    },
    {
      "cell_type": "markdown",
      "source": [
        "## Manipulating tensors (tensors operations)"
      ],
      "metadata": {
        "id": "4Su6MhcVZ8zg"
      }
    },
    {
      "cell_type": "markdown",
      "source": [
        "### Basic operations\n",
        "Basic operations: Addition, Subtraction, Multiplication, Division, Matrix multiplication"
      ],
      "metadata": {
        "id": "kYKW2S8xZ8zg"
      }
    },
    {
      "cell_type": "code",
      "source": [
        "tensor = torch.tensor([1, 2, 3])"
      ],
      "metadata": {
        "execution": {
          "iopub.status.busy": "2024-04-17T23:32:20.110173Z",
          "iopub.execute_input": "2024-04-17T23:32:20.110524Z",
          "iopub.status.idle": "2024-04-17T23:32:20.116311Z",
          "shell.execute_reply.started": "2024-04-17T23:32:20.11048Z",
          "shell.execute_reply": "2024-04-17T23:32:20.115228Z"
        },
        "trusted": true,
        "id": "TIJCqhNJZ8zh"
      },
      "execution_count": null,
      "outputs": []
    },
    {
      "cell_type": "code",
      "source": [
        "add = tensor + 10 # +\n",
        "mul = tensor * 10 # *\n",
        "sub = tensor - 10 # -\n",
        "print(add, mul, sub)"
      ],
      "metadata": {
        "execution": {
          "iopub.status.busy": "2024-04-17T23:32:20.117861Z",
          "iopub.execute_input": "2024-04-17T23:32:20.118284Z",
          "iopub.status.idle": "2024-04-17T23:32:20.13496Z",
          "shell.execute_reply.started": "2024-04-17T23:32:20.118246Z",
          "shell.execute_reply": "2024-04-17T23:32:20.133834Z"
        },
        "trusted": true,
        "id": "MfiiBzrvZ8zh",
        "outputId": "51d82c97-1275-48bd-c7d6-54a71d7be733",
        "colab": {
          "base_uri": "https://localhost:8080/"
        }
      },
      "execution_count": null,
      "outputs": [
        {
          "output_type": "stream",
          "name": "stdout",
          "text": [
            "tensor([11, 12, 13]) tensor([10, 20, 30]) tensor([-9, -8, -7])\n"
          ]
        }
      ]
    },
    {
      "cell_type": "code",
      "source": [
        "torch.mul(tensor, 10) # torch.mul() or torch.multiply() is ok"
      ],
      "metadata": {
        "execution": {
          "iopub.status.busy": "2024-04-17T23:32:20.136482Z",
          "iopub.execute_input": "2024-04-17T23:32:20.136851Z",
          "iopub.status.idle": "2024-04-17T23:32:20.144356Z",
          "shell.execute_reply.started": "2024-04-17T23:32:20.136821Z",
          "shell.execute_reply": "2024-04-17T23:32:20.143371Z"
        },
        "trusted": true,
        "id": "tE-zAkSeZ8zh",
        "outputId": "f98f1fc2-4daf-4fd8-d818-da0ef9a9dbab",
        "colab": {
          "base_uri": "https://localhost:8080/"
        }
      },
      "execution_count": null,
      "outputs": [
        {
          "output_type": "execute_result",
          "data": {
            "text/plain": [
              "tensor([10, 20, 30])"
            ]
          },
          "metadata": {},
          "execution_count": 19
        }
      ]
    },
    {
      "cell_type": "code",
      "source": [
        "tensor * tensor"
      ],
      "metadata": {
        "execution": {
          "iopub.status.busy": "2024-04-17T23:32:20.145785Z",
          "iopub.execute_input": "2024-04-17T23:32:20.146103Z",
          "iopub.status.idle": "2024-04-17T23:32:20.154282Z",
          "shell.execute_reply.started": "2024-04-17T23:32:20.146076Z",
          "shell.execute_reply": "2024-04-17T23:32:20.153259Z"
        },
        "trusted": true,
        "id": "E2nU6XtYZ8zh",
        "outputId": "6978c636-2f9e-4dec-ca5a-1900010c2ceb",
        "colab": {
          "base_uri": "https://localhost:8080/"
        }
      },
      "execution_count": null,
      "outputs": [
        {
          "output_type": "execute_result",
          "data": {
            "text/plain": [
              "tensor([1, 4, 9])"
            ]
          },
          "metadata": {},
          "execution_count": 20
        }
      ]
    },
    {
      "cell_type": "markdown",
      "source": [
        "### Matrix multiplication\n",
        "denote: @\n",
        "syntax: torch.matmul()"
      ],
      "metadata": {
        "id": "lfzWa9GnZ8zh"
      }
    },
    {
      "cell_type": "code",
      "source": [
        "tensor @ tensor"
      ],
      "metadata": {
        "execution": {
          "iopub.status.busy": "2024-04-17T23:32:20.155882Z",
          "iopub.execute_input": "2024-04-17T23:32:20.156213Z",
          "iopub.status.idle": "2024-04-17T23:32:20.168642Z",
          "shell.execute_reply.started": "2024-04-17T23:32:20.156185Z",
          "shell.execute_reply": "2024-04-17T23:32:20.167728Z"
        },
        "trusted": true,
        "id": "ZfmECtQKZ8zi",
        "outputId": "60d8da42-3ee5-45f5-8477-e94cb0b66af4",
        "colab": {
          "base_uri": "https://localhost:8080/"
        }
      },
      "execution_count": null,
      "outputs": [
        {
          "output_type": "execute_result",
          "data": {
            "text/plain": [
              "tensor(14)"
            ]
          },
          "metadata": {},
          "execution_count": 24
        }
      ]
    },
    {
      "cell_type": "code",
      "source": [
        "mul"
      ],
      "metadata": {
        "id": "l3Yi--SdaXxC",
        "outputId": "2515d3a3-fbc2-4edc-b826-26b6607cd461",
        "colab": {
          "base_uri": "https://localhost:8080/"
        }
      },
      "execution_count": null,
      "outputs": [
        {
          "output_type": "execute_result",
          "data": {
            "text/plain": [
              "tensor([10, 20, 30])"
            ]
          },
          "metadata": {},
          "execution_count": 25
        }
      ]
    },
    {
      "cell_type": "code",
      "source": [
        "print(torch.transpose(mul, 0, -1)) # or tensor.T\n",
        "add_transpose = add.T\n",
        "add_transpose.shape, add.shape"
      ],
      "metadata": {
        "execution": {
          "iopub.status.busy": "2024-04-17T23:32:20.169693Z",
          "iopub.execute_input": "2024-04-17T23:32:20.170029Z",
          "iopub.status.idle": "2024-04-17T23:32:20.48699Z",
          "shell.execute_reply.started": "2024-04-17T23:32:20.17Z",
          "shell.execute_reply": "2024-04-17T23:32:20.485225Z"
        },
        "trusted": true,
        "id": "-Uc1BjFxZ8zi",
        "outputId": "40a027f2-2325-4bb4-d0f6-edb792a0e9e0",
        "colab": {
          "base_uri": "https://localhost:8080/"
        }
      },
      "execution_count": null,
      "outputs": [
        {
          "output_type": "stream",
          "name": "stdout",
          "text": [
            "tensor([10, 20, 30])\n"
          ]
        },
        {
          "output_type": "execute_result",
          "data": {
            "text/plain": [
              "(torch.Size([3]), torch.Size([3]))"
            ]
          },
          "metadata": {},
          "execution_count": 36
        }
      ]
    },
    {
      "cell_type": "code",
      "source": [
        "x = torch.rand(size=(2, 3))\n",
        "x_transpose = torch.transpose(x, 1, 0)\n",
        "print(x_transpose.shape)\n",
        "x, x_transpose"
      ],
      "metadata": {
        "id": "cyshTLyNb2U4",
        "outputId": "331ca764-a4fb-453b-a5ab-e34c1b31e946",
        "colab": {
          "base_uri": "https://localhost:8080/"
        }
      },
      "execution_count": null,
      "outputs": [
        {
          "output_type": "stream",
          "name": "stdout",
          "text": [
            "torch.Size([3, 2])\n"
          ]
        },
        {
          "output_type": "execute_result",
          "data": {
            "text/plain": [
              "(tensor([[0.7901, 0.9818, 0.2866],\n",
              "         [0.6204, 0.7683, 0.0154]]),\n",
              " tensor([[0.7901, 0.6204],\n",
              "         [0.9818, 0.7683],\n",
              "         [0.2866, 0.0154]]))"
            ]
          },
          "metadata": {},
          "execution_count": 44
        }
      ]
    },
    {
      "cell_type": "code",
      "source": [
        "x_transpose_1 = torch.transpose(x, -1, 0)\n",
        "print(x_transpose_1.shape)\n",
        "x_transpose_1"
      ],
      "metadata": {
        "id": "jXKJ-NEXbROb",
        "outputId": "063f0bec-9ad1-40a9-98d8-0515943df28a",
        "colab": {
          "base_uri": "https://localhost:8080/"
        }
      },
      "execution_count": null,
      "outputs": [
        {
          "output_type": "stream",
          "name": "stdout",
          "text": [
            "torch.Size([3, 2])\n"
          ]
        },
        {
          "output_type": "execute_result",
          "data": {
            "text/plain": [
              "tensor([[0.7901, 0.6204],\n",
              "        [0.9818, 0.7683],\n",
              "        [0.2866, 0.0154]])"
            ]
          },
          "metadata": {},
          "execution_count": 47
        }
      ]
    },
    {
      "cell_type": "code",
      "source": [
        "# Shapes need to be in the right way\n",
        "tensor_A = torch.tensor([[1, 2],\n",
        "                         [3, 4],\n",
        "                         [5, 6]], dtype=torch.float32)\n",
        "\n",
        "tensor_B = torch.tensor([[7, 10],\n",
        "                         [8, 11],\n",
        "                         [9, 12]], dtype=torch.float32)\n",
        "\n",
        "# torch.matmul(tensor_A, tensor_B) # (this will error)"
      ],
      "metadata": {
        "id": "1yUeo-PyeYT1"
      },
      "execution_count": null,
      "outputs": []
    },
    {
      "cell_type": "markdown",
      "source": [
        "```torch.nn.Linear()```: feed-forward-layer for fully connected layer: $y = x.A^T+b$"
      ],
      "metadata": {
        "id": "BJX-ZiqEfGuv"
      }
    },
    {
      "cell_type": "code",
      "source": [
        "# Since the linear layer starts with a random weights matrix, let's make it reproducible (more on this later)\n",
        "torch.manual_seed(42)\n",
        "# This uses matrix multiplication\n",
        "linear = torch.nn.Linear(in_features=2, # in_features = matches inner dimension of input\n",
        "                         out_features=6) # out_features = describes outer value\n",
        "x = tensor_A\n",
        "output = linear(x)\n",
        "print(x)\n",
        "print(f\"Input shape: {x.shape}\\n\")\n",
        "print(f\"Output:\\n{output}\\n\\nOutput shape: {output.shape}\")"
      ],
      "metadata": {
        "id": "E847eUlgcpbb",
        "outputId": "d54da656-246c-4a7c-9a3b-d47f3a3f3cda",
        "colab": {
          "base_uri": "https://localhost:8080/"
        }
      },
      "execution_count": null,
      "outputs": [
        {
          "output_type": "stream",
          "name": "stdout",
          "text": [
            "tensor([[1., 2.],\n",
            "        [3., 4.],\n",
            "        [5., 6.]])\n",
            "Input shape: torch.Size([3, 2])\n",
            "\n",
            "Output:\n",
            "tensor([[2.2368, 1.2292, 0.4714, 0.3864, 0.1309, 0.9838],\n",
            "        [4.4919, 2.1970, 0.4469, 0.5285, 0.3401, 2.4777],\n",
            "        [6.7469, 3.1648, 0.4224, 0.6705, 0.5493, 3.9716]],\n",
            "       grad_fn=<AddmmBackward0>)\n",
            "\n",
            "Output shape: torch.Size([3, 6])\n"
          ]
        }
      ]
    },
    {
      "cell_type": "code",
      "source": [
        "# Create a tensor\n",
        "x = torch.arange(1., 8.)\n",
        "x, x.shape"
      ],
      "metadata": {
        "id": "AOk3OXe0dvlv",
        "outputId": "6c72b6dc-6881-411e-96ed-75147199bfd8",
        "colab": {
          "base_uri": "https://localhost:8080/"
        }
      },
      "execution_count": null,
      "outputs": [
        {
          "output_type": "execute_result",
          "data": {
            "text/plain": [
              "(tensor([1., 2., 3., 4., 5., 6., 7.]), torch.Size([7]))"
            ]
          },
          "metadata": {},
          "execution_count": 55
        }
      ]
    },
    {
      "cell_type": "code",
      "source": [
        "# Change view (keeps same data as original but changes view)\n",
        "# See more: https://stackoverflow.com/a/54507446/7900723\n",
        "z = x.view(1, 7)\n",
        "z, z.shape"
      ],
      "metadata": {
        "id": "90jWWmN1dvwR",
        "outputId": "9d0ff7a6-2737-4c6b-a980-4e38974e817f",
        "colab": {
          "base_uri": "https://localhost:8080/"
        }
      },
      "execution_count": null,
      "outputs": [
        {
          "output_type": "execute_result",
          "data": {
            "text/plain": [
              "(tensor([[1., 2., 3., 4., 5., 6., 7.]]), torch.Size([1, 7]))"
            ]
          },
          "metadata": {},
          "execution_count": 56
        }
      ]
    },
    {
      "cell_type": "code",
      "source": [
        "# Changing z changes x\n",
        "z[:, 0] = 5\n",
        "z, x"
      ],
      "metadata": {
        "id": "XztZPDmPdv5c",
        "outputId": "b91b11a5-7bec-4b69-d231-9dcd9f0e4a97",
        "colab": {
          "base_uri": "https://localhost:8080/"
        }
      },
      "execution_count": null,
      "outputs": [
        {
          "output_type": "execute_result",
          "data": {
            "text/plain": [
              "(tensor([[5., 2., 3., 4., 5., 6., 7.]]), tensor([5., 2., 3., 4., 5., 6., 7.]))"
            ]
          },
          "metadata": {},
          "execution_count": 57
        }
      ]
    },
    {
      "cell_type": "code",
      "source": [
        "# Stack tensors on top of each other\n",
        "x_stacked = torch.stack([x, x, x, x], dim=1) # try changing dim to dim=1 and see what happens\n",
        "x_stacked"
      ],
      "metadata": {
        "id": "dml8pwwsdwBc",
        "outputId": "f613e9f1-383f-4c05-ba94-49626a3a960f",
        "colab": {
          "base_uri": "https://localhost:8080/"
        }
      },
      "execution_count": null,
      "outputs": [
        {
          "output_type": "execute_result",
          "data": {
            "text/plain": [
              "tensor([[5., 5., 5., 5.],\n",
              "        [2., 2., 2., 2.],\n",
              "        [3., 3., 3., 3.],\n",
              "        [4., 4., 4., 4.],\n",
              "        [5., 5., 5., 5.],\n",
              "        [6., 6., 6., 6.],\n",
              "        [7., 7., 7., 7.]])"
            ]
          },
          "metadata": {},
          "execution_count": 59
        }
      ]
    },
    {
      "cell_type": "code",
      "source": [
        "# Stack tensors on top of each other\n",
        "x_stacked_1 = torch.stack([x, x, x, x], dim=0) # try changing dim to dim=1 and see what happens\n",
        "x_stacked_1"
      ],
      "metadata": {
        "id": "JZl60J1zj8an",
        "outputId": "a85080b4-2d81-458d-b472-d744eb26329c",
        "colab": {
          "base_uri": "https://localhost:8080/"
        }
      },
      "execution_count": null,
      "outputs": [
        {
          "output_type": "execute_result",
          "data": {
            "text/plain": [
              "tensor([[5., 2., 3., 4., 5., 6., 7.],\n",
              "        [5., 2., 3., 4., 5., 6., 7.],\n",
              "        [5., 2., 3., 4., 5., 6., 7.],\n",
              "        [5., 2., 3., 4., 5., 6., 7.]])"
            ]
          },
          "metadata": {},
          "execution_count": 60
        }
      ]
    },
    {
      "cell_type": "markdown",
      "source": [
        "Difference between two above code block is that:\n",
        "dim=1: mean stacks from index 1 and dim=0 means stack from index 0"
      ],
      "metadata": {
        "id": "z9--X4dplVia"
      }
    },
    {
      "cell_type": "code",
      "source": [
        "# Add an extra dimension\n",
        "x_reshaped = x.reshape(1, 7)\n",
        "x_reshaped, x_reshaped.shape"
      ],
      "metadata": {
        "id": "kJZFJ8Pgl8jZ",
        "outputId": "611692d4-0dd3-42c9-ff45-f79e95ce6aee",
        "colab": {
          "base_uri": "https://localhost:8080/"
        }
      },
      "execution_count": null,
      "outputs": [
        {
          "output_type": "execute_result",
          "data": {
            "text/plain": [
              "(tensor([[5., 2., 3., 4., 5., 6., 7.]]), torch.Size([1, 7]))"
            ]
          },
          "metadata": {},
          "execution_count": 62
        }
      ]
    },
    {
      "cell_type": "code",
      "source": [
        "print(f\"Previous tensor: {x_reshaped}\")\n",
        "print(f\"Previous shape: {x_reshaped.shape}\")\n",
        "\n",
        "# Remove extra dimension from x_reshaped\n",
        "x_squeezed = x_reshaped.squeeze()\n",
        "print(f\"\\nNew tensor: {x_squeezed}\")\n",
        "print(f\"New shape: {x_squeezed.shape}\")"
      ],
      "metadata": {
        "id": "3CK4gQ_9j9Fd",
        "outputId": "ef823206-f315-4190-f6ad-7b2f44719e4e",
        "colab": {
          "base_uri": "https://localhost:8080/"
        }
      },
      "execution_count": null,
      "outputs": [
        {
          "output_type": "stream",
          "name": "stdout",
          "text": [
            "Previous tensor: tensor([[5., 2., 3., 4., 5., 6., 7.]])\n",
            "Previous shape: torch.Size([1, 7])\n",
            "\n",
            "New tensor: tensor([5., 2., 3., 4., 5., 6., 7.])\n",
            "New shape: torch.Size([7])\n"
          ]
        }
      ]
    },
    {
      "cell_type": "code",
      "source": [
        "print(f\"Previous tensor: {x_squeezed}\")\n",
        "print(f\"Previous shape: {x_squeezed.shape}\")\n",
        "\n",
        "## Add an extra dimension with unsqueeze\n",
        "x_unsqueezed = x_squeezed.unsqueeze(dim=0)\n",
        "print(f\"\\nNew tensor: {x_unsqueezed}\")\n",
        "print(f\"New shape: {x_unsqueezed.shape}\")"
      ],
      "metadata": {
        "id": "CG-CBz8Gj9fc",
        "outputId": "4812349c-3dcc-406b-c946-2e8c1408814d",
        "colab": {
          "base_uri": "https://localhost:8080/"
        }
      },
      "execution_count": null,
      "outputs": [
        {
          "output_type": "stream",
          "name": "stdout",
          "text": [
            "Previous tensor: tensor([5., 2., 3., 4., 5., 6., 7.])\n",
            "Previous shape: torch.Size([7])\n",
            "\n",
            "New tensor: tensor([[5., 2., 3., 4., 5., 6., 7.]])\n",
            "New shape: torch.Size([1, 7])\n"
          ]
        }
      ]
    },
    {
      "cell_type": "code",
      "source": [
        "print(f\"Previous tensor: {x_squeezed}\")\n",
        "print(f\"Previous shape: {x_squeezed.shape}\")\n",
        "\n",
        "## Add an extra dimension with unsqueeze\n",
        "x_unsqueezed_1 = x_squeezed.unsqueeze(dim=1)\n",
        "print(f\"\\nNew tensor: {x_unsqueezed_1}\")\n",
        "print(f\"New shape: {x_unsqueezed_1.shape}\")"
      ],
      "metadata": {
        "id": "_HLSpt8gj9tT",
        "outputId": "df11408c-0d29-43fa-e150-53f83ae7bfc0",
        "colab": {
          "base_uri": "https://localhost:8080/"
        }
      },
      "execution_count": null,
      "outputs": [
        {
          "output_type": "stream",
          "name": "stdout",
          "text": [
            "Previous tensor: tensor([5., 2., 3., 4., 5., 6., 7.])\n",
            "Previous shape: torch.Size([7])\n",
            "\n",
            "New tensor: tensor([[5.],\n",
            "        [2.],\n",
            "        [3.],\n",
            "        [4.],\n",
            "        [5.],\n",
            "        [6.],\n",
            "        [7.]])\n",
            "New shape: torch.Size([7, 1])\n"
          ]
        }
      ]
    },
    {
      "cell_type": "code",
      "source": [
        "# Create tensor with specific shape\n",
        "x_original = torch.rand(size=(224, 224, 3))\n",
        "\n",
        "# Permute the original tensor to rearrange the axis order\n",
        "x_permuted = x_original.permute(2, 0, 1) # shifts axis 0->1, 1->2, 2->0\n",
        "\n",
        "print(f\"Previous shape: {x_original.shape}\")\n",
        "print(f\"New shape: {x_permuted.shape}\")"
      ],
      "metadata": {
        "id": "Z9d7KsJCj92s",
        "outputId": "3fe805f5-7ded-4e71-a6df-7362e74e6ead",
        "colab": {
          "base_uri": "https://localhost:8080/"
        }
      },
      "execution_count": null,
      "outputs": [
        {
          "output_type": "stream",
          "name": "stdout",
          "text": [
            "Previous shape: torch.Size([224, 224, 3])\n",
            "New shape: torch.Size([3, 224, 224])\n"
          ]
        }
      ]
    },
    {
      "cell_type": "code",
      "source": [],
      "metadata": {
        "id": "0smRfbWXj9_r"
      },
      "execution_count": null,
      "outputs": []
    },
    {
      "cell_type": "code",
      "source": [],
      "metadata": {
        "id": "ILTUAr5LnKjB"
      },
      "execution_count": null,
      "outputs": []
    },
    {
      "cell_type": "code",
      "source": [],
      "metadata": {
        "id": "TVcxl93cj-Iq"
      },
      "execution_count": null,
      "outputs": []
    }
  ]
}